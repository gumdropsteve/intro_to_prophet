{
  "nbformat": 4,
  "nbformat_minor": 0,
  "metadata": {
    "colab": {
      "name": "prophet_yfinance.ipynb",
      "provenance": [],
      "collapsed_sections": [],
      "authorship_tag": "ABX9TyMSoR0ykW+49fvSbxo1niN8",
      "include_colab_link": true
    },
    "kernelspec": {
      "name": "python3",
      "display_name": "Python 3"
    }
  },
  "cells": [
    {
      "cell_type": "markdown",
      "metadata": {
        "id": "view-in-github",
        "colab_type": "text"
      },
      "source": [
        "<a href=\"https://colab.research.google.com/github/gumdropsteve/intro_to_prophet/blob/story%2FProphet-any-Stock-in%C2%A0Seconds/prophet_yfinance.ipynb\" target=\"_parent\"><img src=\"https://colab.research.google.com/assets/colab-badge.svg\" alt=\"Open In Colab\"/></a>"
      ]
    },
    {
      "cell_type": "markdown",
      "metadata": {
        "id": "t0TAYVmGpkW-"
      },
      "source": [
        "#### Install yfinance"
      ]
    },
    {
      "cell_type": "code",
      "metadata": {
        "id": "sxni-MFDpip3"
      },
      "source": [
        "!pip install yfinance"
      ],
      "execution_count": 1,
      "outputs": []
    },
    {
      "cell_type": "markdown",
      "metadata": {
        "id": "9rCPxAQ_ppMA"
      },
      "source": [
        "# Forecasting Stocks from Yahoo Finance with Prophet"
      ]
    },
    {
      "cell_type": "code",
      "metadata": {
        "id": "22ISeYR-pVNF"
      },
      "source": [
        "import yfinance as yf\n",
        "\n",
        "# berkshire hathaway inc. (b stock)\n",
        "brk = yf.Ticker('BRK-B')\n",
        "\n",
        "hist = brk.history(period=\"max\", auto_adjust=True)\n",
        "\n",
        "hist"
      ],
      "execution_count": 2,
      "outputs": []
    },
    {
      "cell_type": "code",
      "metadata": {
        "id": "Ie5vxU0PzBqE"
      },
      "source": [
        "import pandas as pd\n",
        "\n",
        "df = pd.DataFrame()\n",
        "\n",
        "df['ds'] = hist.index\n",
        "df['y'] = hist['Close'].values\n",
        "\n",
        "df.tail()"
      ],
      "execution_count": 3,
      "outputs": []
    },
    {
      "cell_type": "code",
      "metadata": {
        "id": "Yjpcj72EnSjY"
      },
      "source": [
        "from fbprophet import Prophet\n",
        "\n",
        "m = Prophet(daily_seasonality=False)\n",
        "\n",
        "m.fit(df)"
      ],
      "execution_count": 4,
      "outputs": []
    },
    {
      "cell_type": "code",
      "metadata": {
        "id": "leU4X6Q0zGP9"
      },
      "source": [
        "future = m.make_future_dataframe(365, freq='D')\n",
        "\n",
        "forecast = m.predict(future)\n",
        "\n",
        "forecast[['ds', 'yhat', 'yhat_lower', 'yhat_upper']].tail(7)"
      ],
      "execution_count": 5,
      "outputs": []
    },
    {
      "cell_type": "code",
      "metadata": {
        "id": "NVHgp7eV36Jj"
      },
      "source": [
        "m.plot(forecast);"
      ],
      "execution_count": 6,
      "outputs": []
    },
    {
      "cell_type": "markdown",
      "metadata": {
        "id": "FeaRgJzNwjsF"
      },
      "source": [
        "## Make it a Function"
      ]
    },
    {
      "cell_type": "code",
      "metadata": {
        "id": "jvn5DCZ8n-w7"
      },
      "source": [
        "def make_forecast(ticker, periods, hist='max'):\n",
        "    \"\"\"\n",
        "    forecast the given ticker (stock) period days into the future (from today)\n",
        "\n",
        "    inputs\n",
        "    ------\n",
        "    > ticker\n",
        "        >> ticker of stock to forecast\n",
        "    > periods\n",
        "        >> number of days into the future to forecast (from today's date)\n",
        "    > hist\n",
        "        >> amount of historical data to consider\n",
        "            > default: max\n",
        "            > options: 1d, 5d, 1mo, 3mo, 6mo, 1y, 2y, 5y, 10y, ytd, max\n",
        "    \"\"\"\n",
        "    # pull historical data from yahoo finance\n",
        "    stock_data = yf.Ticker(ticker)\n",
        "\n",
        "    hist_data = stock_data.history(hist, auto_adjust=True)\n",
        "\n",
        "    # create new dataframe to hold dates (ds) & adjusted closing prices (y)\n",
        "    df = pd.DataFrame()\n",
        "\n",
        "    df['ds'] = hist_data.index.values\n",
        "    df['y'] = hist_data['Close'].values\n",
        "\n",
        "    # create a Prophet model from that data\n",
        "    m = Prophet(daily_seasonality=False)\n",
        "    m.fit(df)\n",
        "\n",
        "    future = m.make_future_dataframe(periods, freq='D')\n",
        "\n",
        "    forecast = m.predict(future)\n",
        "\n",
        "    m.plot(forecast)\n",
        "\n",
        "    return forecast"
      ],
      "execution_count": 7,
      "outputs": []
    },
    {
      "cell_type": "markdown",
      "metadata": {
        "id": "xx82iBA52KoL"
      },
      "source": [
        "#### Make some Forecasts with that Function"
      ]
    },
    {
      "cell_type": "code",
      "metadata": {
        "id": "vHdaXGg219xA"
      },
      "source": [
        "# kkr real estate finance trust\n",
        "make_forecast('KREF', 180)"
      ],
      "execution_count": 8,
      "outputs": []
    },
    {
      "cell_type": "code",
      "metadata": {
        "id": "MQTfOuPzzI3s"
      },
      "source": [
        "# dave & buster's\n",
        "make_forecast('PLAY', 365 * 2).tail()"
      ],
      "execution_count": 9,
      "outputs": []
    },
    {
      "cell_type": "code",
      "metadata": {
        "id": "JFcz6PRP2ZI4"
      },
      "source": [
        "n = 365  # set variable for number of days to predict\n",
        "\n",
        "# snapchat\n",
        "snap_forecast = make_forecast('SNAP', n)\n",
        "\n",
        "# only keep the future forecast, and forget most columns\n",
        "snap_forecast = snap_forecast[['ds', 'yhat', 'yhat_lower', 'yhat_upper']].tail(n)\n",
        "\n",
        "snap_forecast"
      ],
      "execution_count": 10,
      "outputs": []
    }
  ]
}